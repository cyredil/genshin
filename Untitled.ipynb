{
 "cells": [
  {
   "cell_type": "code",
   "execution_count": 4,
   "id": "933a1e68-8d67-411b-81dc-3a9be2fddb62",
   "metadata": {},
   "outputs": [
    {
     "ename": "TypeError",
     "evalue": "GenshinBattleChronicleClient.get_genshin_user() missing 1 required positional argument: 'uid'",
     "output_type": "error",
     "traceback": [
      "\u001b[1;31m---------------------------------------------------------------------------\u001b[0m",
      "\u001b[1;31mTypeError\u001b[0m                                 Traceback (most recent call last)",
      "Cell \u001b[1;32mIn[4], line 4\u001b[0m\n\u001b[0;32m      1\u001b[0m \u001b[38;5;28;01mimport\u001b[39;00m \u001b[38;5;21;01mgenshin\u001b[39;00m\n\u001b[0;32m      3\u001b[0m client \u001b[38;5;241m=\u001b[39m genshin\u001b[38;5;241m.\u001b[39mClient()\n\u001b[1;32m----> 4\u001b[0m help(client\u001b[38;5;241m.\u001b[39mget_genshin_user())\n",
      "\u001b[1;31mTypeError\u001b[0m: GenshinBattleChronicleClient.get_genshin_user() missing 1 required positional argument: 'uid'"
     ]
    }
   ],
   "source": [
    "import genshin\n",
    "\n",
    "client = genshin.Client()\n",
    "help(client.get_genshin_user())"
   ]
  },
  {
   "cell_type": "code",
   "execution_count": null,
   "id": "5cd4784e-1c00-4137-9834-a6efbd1886eb",
   "metadata": {},
   "outputs": [],
   "source": []
  }
 ],
 "metadata": {
  "kernelspec": {
   "display_name": "Python 3 (ipykernel)",
   "language": "python",
   "name": "python3"
  },
  "language_info": {
   "codemirror_mode": {
    "name": "ipython",
    "version": 3
   },
   "file_extension": ".py",
   "mimetype": "text/x-python",
   "name": "python",
   "nbconvert_exporter": "python",
   "pygments_lexer": "ipython3",
   "version": "3.12.7"
  }
 },
 "nbformat": 4,
 "nbformat_minor": 5
}
