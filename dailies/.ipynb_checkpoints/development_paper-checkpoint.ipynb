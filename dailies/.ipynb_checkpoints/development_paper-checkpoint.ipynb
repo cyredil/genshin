{
 "cells": [
  {
   "cell_type": "code",
   "execution_count": 1,
   "id": "933a1e68-8d67-411b-81dc-3a9be2fddb62",
   "metadata": {},
   "outputs": [],
   "source": [
    "import genshin\n",
    "import plotly\n",
    "from bin.credentials import credentials_gui\n",
    "from bin.authentication import authenticate\n",
    "from bin.utils import claim_reward, get_account_infos\n",
    "import asyncio"
   ]
  },
  {
   "cell_type": "code",
   "execution_count": 3,
   "id": "c6329148-46c1-4e30-ba35-d242d5c413e6",
   "metadata": {},
   "outputs": [
    {
     "ename": "NameError",
     "evalue": "name 'reload' is not defined",
     "output_type": "error",
     "traceback": [
      "\u001b[1;31m---------------------------------------------------------------------------\u001b[0m",
      "\u001b[1;31mNameError\u001b[0m                                 Traceback (most recent call last)",
      "Cell \u001b[1;32mIn[3], line 1\u001b[0m\n\u001b[1;32m----> 1\u001b[0m reload(\u001b[38;5;28mbin\u001b[39m\u001b[38;5;241m.\u001b[39mcredentials)\n",
      "\u001b[1;31mNameError\u001b[0m: name 'reload' is not defined"
     ]
    }
   ],
   "source": [
    "importlib.reload(bin.credentials)"
   ]
  },
  {
   "cell_type": "code",
   "execution_count": 2,
   "id": "5cd4784e-1c00-4137-9834-a6efbd1886eb",
   "metadata": {},
   "outputs": [],
   "source": [
    "credentials_gui()"
   ]
  },
  {
   "cell_type": "code",
   "execution_count": null,
   "id": "c09877e9-2e5a-4f37-bace-5d63a80614b4",
   "metadata": {},
   "outputs": [],
   "source": [
    "## redefining login from bin.login\n",
    "def login():\n",
    "    cred = load_credentials('bin/credentials.ini')\n",
    "    client = asyncio.run(authenticate(cred))\n",
    "    account_infos = asyncio.run(get_account_infos(client, int(cred[5])))\n",
    "\n",
    "    return cred, client, account_infos"
   ]
  },
  {
   "cell_type": "code",
   "execution_count": 6,
   "id": "77de5f25-f532-45c7-8738-e02337aee7ff",
   "metadata": {},
   "outputs": [
    {
     "name": "stderr",
     "output_type": "stream",
     "text": [
      "C:\\Users\\PROPRIETAIRE\\anaconda3\\envs\\genshin\\Lib\\site-packages\\pygments\\formatters\\terminal256.py:186: RuntimeWarning: coroutine 'authenticate' was never awaited\n",
      "  self.xterm_colors.append((v, v, v))\n",
      "RuntimeWarning: Enable tracemalloc to get the object allocation traceback\n"
     ]
    },
    {
     "ename": "RuntimeError",
     "evalue": "asyncio.run() cannot be called from a running event loop",
     "output_type": "error",
     "traceback": [
      "\u001b[1;31m---------------------------------------------------------------------------\u001b[0m",
      "\u001b[1;31mRuntimeError\u001b[0m                              Traceback (most recent call last)",
      "Cell \u001b[1;32mIn[6], line 1\u001b[0m\n\u001b[1;32m----> 1\u001b[0m cred, client, account_infos \u001b[38;5;241m=\u001b[39m login()\n",
      "File \u001b[1;32m~\\Desktop\\Dossier\\project\\genshin\\dailies\\bin\\login.py:40\u001b[0m, in \u001b[0;36mlogin\u001b[1;34m()\u001b[0m\n\u001b[0;32m     38\u001b[0m \u001b[38;5;28;01mdef\u001b[39;00m \u001b[38;5;21mlogin\u001b[39m():\n\u001b[0;32m     39\u001b[0m     cred \u001b[38;5;241m=\u001b[39m load_credentials(\u001b[38;5;124m'\u001b[39m\u001b[38;5;124mbin/credentials.ini\u001b[39m\u001b[38;5;124m'\u001b[39m)\n\u001b[1;32m---> 40\u001b[0m     client \u001b[38;5;241m=\u001b[39m asyncio\u001b[38;5;241m.\u001b[39mrun(authenticate(cred))\n\u001b[0;32m     41\u001b[0m     account_infos \u001b[38;5;241m=\u001b[39m asyncio\u001b[38;5;241m.\u001b[39mrun(get_account_infos(client, \u001b[38;5;28mint\u001b[39m(cred[\u001b[38;5;241m5\u001b[39m])))\n\u001b[0;32m     43\u001b[0m     \u001b[38;5;28;01mreturn\u001b[39;00m cred, client, account_infos\n",
      "File \u001b[1;32m~\\anaconda3\\envs\\genshin\\Lib\\asyncio\\runners.py:190\u001b[0m, in \u001b[0;36mrun\u001b[1;34m(main, debug, loop_factory)\u001b[0m\n\u001b[0;32m    161\u001b[0m \u001b[38;5;250m\u001b[39m\u001b[38;5;124;03m\"\"\"Execute the coroutine and return the result.\u001b[39;00m\n\u001b[0;32m    162\u001b[0m \n\u001b[0;32m    163\u001b[0m \u001b[38;5;124;03mThis function runs the passed coroutine, taking care of\u001b[39;00m\n\u001b[1;32m   (...)\u001b[0m\n\u001b[0;32m    186\u001b[0m \u001b[38;5;124;03m    asyncio.run(main())\u001b[39;00m\n\u001b[0;32m    187\u001b[0m \u001b[38;5;124;03m\"\"\"\u001b[39;00m\n\u001b[0;32m    188\u001b[0m \u001b[38;5;28;01mif\u001b[39;00m events\u001b[38;5;241m.\u001b[39m_get_running_loop() \u001b[38;5;129;01mis\u001b[39;00m \u001b[38;5;129;01mnot\u001b[39;00m \u001b[38;5;28;01mNone\u001b[39;00m:\n\u001b[0;32m    189\u001b[0m     \u001b[38;5;66;03m# fail fast with short traceback\u001b[39;00m\n\u001b[1;32m--> 190\u001b[0m     \u001b[38;5;28;01mraise\u001b[39;00m \u001b[38;5;167;01mRuntimeError\u001b[39;00m(\n\u001b[0;32m    191\u001b[0m         \u001b[38;5;124m\"\u001b[39m\u001b[38;5;124masyncio.run() cannot be called from a running event loop\u001b[39m\u001b[38;5;124m\"\u001b[39m)\n\u001b[0;32m    193\u001b[0m \u001b[38;5;28;01mwith\u001b[39;00m Runner(debug\u001b[38;5;241m=\u001b[39mdebug, loop_factory\u001b[38;5;241m=\u001b[39mloop_factory) \u001b[38;5;28;01mas\u001b[39;00m runner:\n\u001b[0;32m    194\u001b[0m     \u001b[38;5;28;01mreturn\u001b[39;00m runner\u001b[38;5;241m.\u001b[39mrun(main)\n",
      "\u001b[1;31mRuntimeError\u001b[0m: asyncio.run() cannot be called from a running event loop"
     ]
    }
   ],
   "source": [
    "cred, client, account_infos = login()"
   ]
  },
  {
   "cell_type": "code",
   "execution_count": null,
   "id": "37ccd01d-a20d-4c31-a2fd-1f743e01f56b",
   "metadata": {},
   "outputs": [],
   "source": []
  }
 ],
 "metadata": {
  "kernelspec": {
   "display_name": "Python 3 (ipykernel)",
   "language": "python",
   "name": "python3"
  },
  "language_info": {
   "codemirror_mode": {
    "name": "ipython",
    "version": 3
   },
   "file_extension": ".py",
   "mimetype": "text/x-python",
   "name": "python",
   "nbconvert_exporter": "python",
   "pygments_lexer": "ipython3",
   "version": "3.12.7"
  }
 },
 "nbformat": 4,
 "nbformat_minor": 5
}
